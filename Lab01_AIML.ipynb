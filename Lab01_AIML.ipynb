{
  "nbformat": 4,
  "nbformat_minor": 0,
  "metadata": {
    "colab": {
      "provenance": [],
      "authorship_tag": "ABX9TyND/YxCMiycZw/Kb/HJ03dv",
      "include_colab_link": true
    },
    "kernelspec": {
      "name": "python3",
      "display_name": "Python 3"
    },
    "language_info": {
      "name": "python"
    }
  },
  "cells": [
    {
      "cell_type": "markdown",
      "metadata": {
        "id": "view-in-github",
        "colab_type": "text"
      },
      "source": [
        "<a href=\"https://colab.research.google.com/github/2303A52103/AIML_2303A52103/blob/main/Lab01_AIML.ipynb\" target=\"_parent\"><img src=\"https://colab.research.google.com/assets/colab-badge.svg\" alt=\"Open In Colab\"/></a>"
      ]
    },
    {
      "cell_type": "code",
      "execution_count": null,
      "metadata": {
        "id": "6sIZxH2O50Ut"
      },
      "outputs": [],
      "source": []
    },
    {
      "cell_type": "markdown",
      "source": [
        "Part 1 – Implement Basic Data Structures using Numpy, Pandas\n",
        "1. Lists\n",
        "2. Arrays\n",
        "3. Identify their type using type()\n",
        "4. Perform mathematical operations on these datasets created - multiplication, division,\n",
        "poweroff\n",
        "5. Combine text with Numpy fuction to generate a textual output - ”Addition of Two:\n",
        "array1 +array 2\n",
        "6. Implement np.sin(), log(), log2(), np.exp())\n"
      ],
      "metadata": {
        "id": "liorRcP_-rcT"
      }
    },
    {
      "cell_type": "code",
      "source": [
        "import numpy as np\n",
        "l1=[1,2,3,4]\n",
        "arr1 = np.array(l1)\n",
        "print(arr1)"
      ],
      "metadata": {
        "colab": {
          "base_uri": "https://localhost:8080/"
        },
        "id": "MdDJP308-vlV",
        "outputId": "b089a8da-1631-4f93-bdfa-9af82c4b1291"
      },
      "execution_count": 18,
      "outputs": [
        {
          "output_type": "stream",
          "name": "stdout",
          "text": [
            "[1 2 3 4]\n"
          ]
        }
      ]
    },
    {
      "cell_type": "code",
      "source": [
        "type(l1)"
      ],
      "metadata": {
        "colab": {
          "base_uri": "https://localhost:8080/"
        },
        "id": "fF9Ghw3s-6-M",
        "outputId": "18221df9-17b0-4a76-d5b8-bbe7a9faaebf"
      },
      "execution_count": 14,
      "outputs": [
        {
          "output_type": "execute_result",
          "data": {
            "text/plain": [
              "list"
            ]
          },
          "metadata": {},
          "execution_count": 14
        }
      ]
    },
    {
      "cell_type": "code",
      "source": [
        "type(arr1)"
      ],
      "metadata": {
        "colab": {
          "base_uri": "https://localhost:8080/"
        },
        "id": "8HpNOLCQ_C8c",
        "outputId": "c406f9b9-a5f6-4766-e3b9-06ba0a56f5db"
      },
      "execution_count": 19,
      "outputs": [
        {
          "output_type": "execute_result",
          "data": {
            "text/plain": [
              "numpy.ndarray"
            ]
          },
          "metadata": {},
          "execution_count": 19
        }
      ]
    },
    {
      "cell_type": "code",
      "source": [
        "l2=[4,3,2,1]\n",
        "arr2=np.array(l2)\n",
        "print(arr2)"
      ],
      "metadata": {
        "colab": {
          "base_uri": "https://localhost:8080/"
        },
        "id": "ZeF7GX-p_RUF",
        "outputId": "e32002a7-75b6-4eed-becf-853f5daa03dc"
      },
      "execution_count": 20,
      "outputs": [
        {
          "output_type": "stream",
          "name": "stdout",
          "text": [
            "[4 3 2 1]\n"
          ]
        }
      ]
    },
    {
      "cell_type": "code",
      "source": [
        "print(\"multiplication: \",arr1*arr2)\n",
        "print(\"division: \",arr2/arr1)\n",
        "print(\"poweroff: \",arr2**arr1)"
      ],
      "metadata": {
        "colab": {
          "base_uri": "https://localhost:8080/"
        },
        "id": "mQtH2yiA_Zn0",
        "outputId": "be45e8a9-4370-470f-b1c1-2e8dc73f1090"
      },
      "execution_count": 22,
      "outputs": [
        {
          "output_type": "stream",
          "name": "stdout",
          "text": [
            "multiplication:  [4 6 6 4]\n",
            "division:  [4.         1.5        0.66666667 0.25      ]\n",
            "poweroff:  [4 9 8 1]\n"
          ]
        }
      ]
    },
    {
      "cell_type": "code",
      "source": [
        "print(\"Sine: \",np.sin(arr1))\n",
        "print(\"Natural logarithm: \",np.log(arr1))\n",
        "print(\"Base-10 logarithm: \",np.log10(arr1))\n",
        "print(\"Base-2 logarithm: \",np.log2(arr1))\n",
        "print(\"Exponential: \",np.exp(arr1))"
      ],
      "metadata": {
        "colab": {
          "base_uri": "https://localhost:8080/"
        },
        "id": "tF9a9tIoAQ1d",
        "outputId": "f08cf950-3f2f-4cd6-d652-7ed90cf8a0ce"
      },
      "execution_count": 23,
      "outputs": [
        {
          "output_type": "stream",
          "name": "stdout",
          "text": [
            "Sine:  [ 0.84147098  0.90929743  0.14112001 -0.7568025 ]\n",
            "Natural logarithm:  [0.         0.69314718 1.09861229 1.38629436]\n",
            "Base-10 logarithm:  [0.         0.30103    0.47712125 0.60205999]\n",
            "Base-2 logarithm:  [0.        1.        1.5849625 2.       ]\n",
            "Exponential:  [ 2.71828183  7.3890561  20.08553692 54.59815003]\n"
          ]
        }
      ]
    },
    {
      "cell_type": "code",
      "source": [
        "print(\"Add both two numpy arrays {arr1} and {arr2} :\", arr1 + arr2)"
      ],
      "metadata": {
        "colab": {
          "base_uri": "https://localhost:8080/"
        },
        "id": "u8Fd3Ds7As56",
        "outputId": "6ac38abe-6404-43f1-d7be-dada1d3aa021"
      },
      "execution_count": 25,
      "outputs": [
        {
          "output_type": "stream",
          "name": "stdout",
          "text": [
            "Add both two numpy arrays {arr1} and {arr2} : [5 5 5 5]\n"
          ]
        }
      ]
    }
  ]
}